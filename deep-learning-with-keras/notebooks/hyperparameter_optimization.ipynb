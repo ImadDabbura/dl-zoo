{
 "cells": [
  {
   "cell_type": "code",
   "execution_count": 1,
   "metadata": {},
   "outputs": [
    {
     "name": "stderr",
     "output_type": "stream",
     "text": [
      "Using TensorFlow backend.\n",
      "/anaconda3/lib/python3.6/importlib/_bootstrap.py:219: RuntimeWarning: compiletime version 3.5 of module 'tensorflow.python.framework.fast_tensor_util' does not match runtime version 3.6\n",
      "  return f(*args, **kwds)\n"
     ]
    }
   ],
   "source": [
    "from keras import layers, models\n",
    "from keras.datasets import mnist\n",
    "from keras.utils import to_categorical\n",
    "from hyperas import optim\n",
    "from hyperas.distributions import choice, conditional, uniform\n",
    "from hyperopt import Trials, STATUS_OK, tpe"
   ]
  },
  {
   "cell_type": "code",
   "execution_count": 2,
   "metadata": {},
   "outputs": [
    {
     "data": {
      "text/plain": [
       "((60000, 784), (10000, 784), (60000, 10), (10000, 10))"
      ]
     },
     "execution_count": 2,
     "metadata": {},
     "output_type": "execute_result"
    }
   ],
   "source": [
    "# Load the data\n",
    "(X_train, y_train), (X_test, y_test) = mnist.load_data()\n",
    "X_train = X_train.reshape((-1, 28 * 28))\n",
    "X_train = X_train.astype(\"float32\") / 255\n",
    "X_test = X_test.reshape((-1, 28 * 28))\n",
    "X_test = X_test.astype(\"float32\") / 255\n",
    "\n",
    "y_train = to_categorical(y_train)\n",
    "y_test = to_categorical(y_test)\n",
    "\n",
    "X_train.shape, X_test.shape, y_train.shape, y_test.shape"
   ]
  },
  {
   "cell_type": "code",
   "execution_count": 6,
   "metadata": {
    "collapsed": true
   },
   "outputs": [],
   "source": [
    "def data():\n",
    "    (X_train, y_train), (X_test, y_test) = mnist.load_data()\n",
    "    X_train = X_train.reshape((-1, 28 * 28))\n",
    "    X_train = X_train.astype(\"float32\") / 255\n",
    "    X_test = X_test.reshape((-1, 28 * 28))\n",
    "    X_test = X_test.astype(\"float32\") / 255\n",
    "\n",
    "    y_train = to_categorical(y_train)\n",
    "    y_test = to_categorical(y_test)\n",
    "    \n",
    "    return X_train, y_train, X_test, y_test\n",
    "\n",
    "def create_model(X_train, y_train, X_test, y_test):\n",
    "    model = models.Sequential()\n",
    "    model.add(layers.Dense(512, activation=\"relu\", input_shape=(784,)))\n",
    "    model.add(layers.Dropout({{uniform(0, 1)}}))\n",
    "    model.add(layers.Dense({{choice([256, 512])}}, activation=\"relu\"))\n",
    "    model.add(layers.Dropout({{uniform(0, 1)}}))\n",
    "    model.add(layers.Dense(10, activation=\"softmax\"))\n",
    "    \n",
    "    model.compile(optimizer={{choice([\"rmsprop\", \"adam\", \"sgd\"])}},\n",
    "                  loss=\"categorical_crossentropy\",\n",
    "                  metrics=[\"acc\"])\n",
    "    \n",
    "    model.fit(X_train, y_train,\n",
    "              epochs=1,\n",
    "              batch_size={{choice([32, 64, 128])}},\n",
    "              validation_split=0.2, verbose=2)\n",
    "    \n",
    "    score, acc = model.evaluate(X_test, y_test)\n",
    "    print(f\"Test accuracy is: {acc * 100:.2f}%\")\n",
    "    \n",
    "    return {\"loss\": -acc, \"status\": STATUS_OK, \"model\": model}"
   ]
  },
  {
   "cell_type": "code",
   "execution_count": 7,
   "metadata": {},
   "outputs": [
    {
     "name": "stdout",
     "output_type": "stream",
     "text": [
      ">>> Imports:\n",
      "#coding=utf-8\n",
      "\n",
      "try:\n",
      "    from keras import layers, models\n",
      "except:\n",
      "    pass\n",
      "\n",
      "try:\n",
      "    from keras.datasets import mnist\n",
      "except:\n",
      "    pass\n",
      "\n",
      "try:\n",
      "    from keras.utils import to_categorical\n",
      "except:\n",
      "    pass\n",
      "\n",
      "try:\n",
      "    from hyperas import optim\n",
      "except:\n",
      "    pass\n",
      "\n",
      "try:\n",
      "    from hyperas.distributions import choice, conditional, uniform\n",
      "except:\n",
      "    pass\n",
      "\n",
      "try:\n",
      "    from hyperopt import Trials, STATUS_OK, tpe\n",
      "except:\n",
      "    pass\n",
      "\n",
      ">>> Hyperas search space:\n",
      "\n",
      "def get_space():\n",
      "    return {\n",
      "        'Dropout': hp.uniform('Dropout', 0, 1),\n",
      "        'Dense': hp.choice('Dense', [256, 512]),\n",
      "        'Dropout_1': hp.uniform('Dropout_1', 0, 1),\n",
      "        'optimizer': hp.choice('optimizer', [\"rmsprop\", \"adam\", \"sgd\"]),\n",
      "        'batch_size': hp.choice('batch_size', [32, 64, 128]),\n",
      "    }\n",
      "\n",
      ">>> Data\n",
      "  1: \n",
      "  2: (X_train, y_train), (X_test, y_test) = mnist.load_data()\n",
      "  3: X_train = X_train.reshape((-1, 28 * 28))\n",
      "  4: X_train = X_train.astype(\"float32\") / 255\n",
      "  5: X_test = X_test.reshape((-1, 28 * 28))\n",
      "  6: X_test = X_test.astype(\"float32\") / 255\n",
      "  7: \n",
      "  8: y_train = to_categorical(y_train)\n",
      "  9: y_test = to_categorical(y_test)\n",
      " 10: \n",
      " 11: \n",
      " 12: \n",
      " 13: \n",
      ">>> Resulting replaced keras model:\n",
      "\n",
      "  1: def keras_fmin_fnct(space):\n",
      "  2: \n",
      "  3:     model = models.Sequential()\n",
      "  4:     model.add(layers.Dense(512, activation=\"relu\", input_shape=(784,)))\n",
      "  5:     model.add(layers.Dropout(space['Dropout']))\n",
      "  6:     model.add(layers.Dense(space['Dense'], activation=\"relu\"))\n",
      "  7:     model.add(layers.Dropout(space['Dropout_1']))\n",
      "  8:     model.add(layers.Dense(10, activation=\"softmax\"))\n",
      "  9:     \n",
      " 10:     model.compile(optimizer=space['optimizer'],\n",
      " 11:                   loss=\"categorical_crossentropy\",\n",
      " 12:                   metrics=[\"acc\"])\n",
      " 13:     \n",
      " 14:     model.fit(X_train, y_train,\n",
      " 15:               epochs=1,\n",
      " 16:               batch_size=space['batch_size'],\n",
      " 17:               validation_split=0.2, verbose=2)\n",
      " 18:     \n",
      " 19:     score, acc = model.evaluate(X_test, y_test)\n",
      " 20:     print(f\"Test accuracy is: {acc * 100:.2f}%\")\n",
      " 21:     \n",
      " 22:     return {\"loss\": -acc, \"status\": STATUS_OK, \"model\": model}\n",
      " 23: \n",
      "Train on 48000 samples, validate on 12000 samples\n",
      "Epoch 1/1\n",
      "48000/48000 [==============================] - 5s 108us/step - loss: 1.5737 - acc: 0.4647 - val_loss: 0.6405 - val_acc: 0.8479\n",
      "10000/10000 [==============================] - 0s 47us/step\n",
      "Test accuracy is: 84.11%\n",
      "Train on 48000 samples, validate on 12000 samples\n",
      "Epoch 1/1\n",
      "48000/48000 [==============================] - 4s 84us/step - loss: 1.6628 - acc: 0.4164 - val_loss: 0.5657 - val_acc: 0.8849\n",
      "10000/10000 [==============================] - 0s 44us/step\n",
      "Test accuracy is: 88.35%\n",
      "Train on 48000 samples, validate on 12000 samples\n",
      "Epoch 1/1\n",
      "48000/48000 [==============================] - 5s 108us/step - loss: 1.8498 - acc: 0.3505 - val_loss: 0.9186 - val_acc: 0.8576\n",
      "10000/10000 [==============================] - 0s 46us/step\n",
      "Test accuracy is: 85.27%\n",
      "Train on 48000 samples, validate on 12000 samples\n",
      "Epoch 1/1\n",
      "48000/48000 [==============================] - 6s 127us/step - loss: 0.7535 - acc: 0.7549 - val_loss: 0.2346 - val_acc: 0.9336\n",
      "10000/10000 [==============================] - 0s 42us/step\n",
      "Test accuracy is: 92.87%\n",
      "Train on 48000 samples, validate on 12000 samples\n",
      "Epoch 1/1\n",
      "48000/48000 [==============================] - 5s 94us/step - loss: 0.3829 - acc: 0.8814 - val_loss: 0.1451 - val_acc: 0.9564\n",
      "10000/10000 [==============================] - 0s 47us/step\n",
      "Test accuracy is: 95.65%\n"
     ]
    }
   ],
   "source": [
    "best_run, best_model = optim.minimize(model=create_model,\n",
    "                                      data=data,\n",
    "                                      algo=tpe.suggest,\n",
    "                                      max_evals=5,\n",
    "                                      trials=Trials(), notebook_name=\"Untitled1\")"
   ]
  },
  {
   "cell_type": "code",
   "execution_count": 8,
   "metadata": {},
   "outputs": [
    {
     "data": {
      "text/plain": [
       "{'Dense': 1,\n",
       " 'Dropout': 0.587606728324542,\n",
       " 'Dropout_1': 0.3746350041674067,\n",
       " 'batch_size': 2,\n",
       " 'optimizer': 0}"
      ]
     },
     "execution_count": 8,
     "metadata": {},
     "output_type": "execute_result"
    }
   ],
   "source": [
    "best_run"
   ]
  },
  {
   "cell_type": "code",
   "execution_count": null,
   "metadata": {
    "collapsed": true
   },
   "outputs": [],
   "source": []
  }
 ],
 "metadata": {
  "kernelspec": {
   "display_name": "Python 3",
   "language": "python",
   "name": "python3"
  },
  "language_info": {
   "codemirror_mode": {
    "name": "ipython",
    "version": 3
   },
   "file_extension": ".py",
   "mimetype": "text/x-python",
   "name": "python",
   "nbconvert_exporter": "python",
   "pygments_lexer": "ipython3",
   "version": "3.6.5"
  }
 },
 "nbformat": 4,
 "nbformat_minor": 2
}
